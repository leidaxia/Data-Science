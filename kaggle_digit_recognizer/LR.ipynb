{
 "cells": [
  {
   "cell_type": "code",
   "execution_count": 2,
   "metadata": {
    "collapsed": true
   },
   "outputs": [],
   "source": [
    "import pandas as pd\n",
    "import numpy as np"
   ]
  },
  {
   "cell_type": "code",
   "execution_count": 148,
   "metadata": {},
   "outputs": [
    {
     "data": {
      "text/plain": [
       "(42000, 752)"
      ]
     },
     "execution_count": 148,
     "metadata": {},
     "output_type": "execute_result"
    }
   ],
   "source": [
    "df_train = pd.read_csv('train.csv')\n",
    "#list(df_train.columns) \n",
    "df_train_1 = df_train.drop(list(df_train.columns)[:33],axis=1)\n",
    "df_train_1.shape\n",
    "#df_train.sum()"
   ]
  },
  {
   "cell_type": "code",
   "execution_count": 151,
   "metadata": {},
   "outputs": [
    {
     "data": {
      "text/plain": [
       "(28000, 752)"
      ]
     },
     "execution_count": 151,
     "metadata": {},
     "output_type": "execute_result"
    }
   ],
   "source": [
    "df_test = pd.read_csv('test.csv')\n",
    "df_test_1 = df_test.drop(list(df_test.columns)[:32],axis=1)\n",
    "df_test.sum()\n",
    "df_test_1.shape"
   ]
  },
  {
   "cell_type": "code",
   "execution_count": 35,
   "metadata": {},
   "outputs": [],
   "source": [
    "#df.astype('int', inplace=True)\n",
    "#df.sum()"
   ]
  },
  {
   "cell_type": "code",
   "execution_count": 36,
   "metadata": {
    "collapsed": true
   },
   "outputs": [],
   "source": [
    "import numpy as np\n",
    "import matplotlib.pyplot as plt\n",
    "\n",
    "from sklearn.linear_model import LogisticRegression\n",
    "from sklearn.preprocessing import StandardScaler"
   ]
  },
  {
   "cell_type": "code",
   "execution_count": 71,
   "metadata": {},
   "outputs": [],
   "source": [
    "y_train = df_train.iloc[:,0]\n",
    "#X_train = df_train.iloc[:, 1:]\n",
    "#X_test = df_test.iloc[:, :]\n",
    "y_label = np.array([])"
   ]
  },
  {
   "cell_type": "code",
   "execution_count": 153,
   "metadata": {},
   "outputs": [],
   "source": [
    "for i,C in enumerate((100,1,0.01)):\n",
    "    clf_l1_LR = LogisticRegression(C=C, penalty='l1', tol=0.01)\n",
    "    #clf_l2_LR = LogisticRegression(C=C, penalty='l2', tol=0.01)\n",
    "    clf_l2_LR.fit(df_train_1,y_train)\n",
    "    #clf_l2_LR.fit(X,y)\n",
    "    y_test_1 = clf_l2_LR.predict(df_test_1)\n",
    "    #y_test_1 = list(y_test_1)\n",
    "    #y_test.append(y_test_1)\n",
    "    #print (type(y_test_1))\n",
    "    filename = 'sample_submission_' + 'l2_' + str(C) + 'drop'+'.csv'\n",
    "    submission =pd.DataFrame({'ImageId':list(map(lambda x: x+1, list(df.index))),'Label':y_test_1})\n",
    "    submission.to_csv(filename,index=False)"
   ]
  }
 ],
 "metadata": {
  "kernelspec": {
   "display_name": "Python 3",
   "language": "python",
   "name": "python3"
  },
  "language_info": {
   "codemirror_mode": {
    "name": "ipython",
    "version": 3
   },
   "file_extension": ".py",
   "mimetype": "text/x-python",
   "name": "python",
   "nbconvert_exporter": "python",
   "pygments_lexer": "ipython3",
   "version": "3.6.3"
  }
 },
 "nbformat": 4,
 "nbformat_minor": 2
}
