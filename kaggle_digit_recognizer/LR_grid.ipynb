{
 "cells": [
  {
   "cell_type": "code",
   "execution_count": 2,
   "metadata": {
    "collapsed": true
   },
   "outputs": [],
   "source": [
    "from __future__ import print_function\n",
    "\n",
    "from time import time\n",
    "import logging\n",
    "import matplotlib.pyplot as plt\n",
    "\n",
    "from sklearn.model_selection import train_test_split\n",
    "from sklearn.model_selection import GridSearchCV\n",
    "from sklearn.datasets import fetch_lfw_people\n",
    "from sklearn.metrics import classification_report\n",
    "from sklearn.metrics import confusion_matrix\n",
    "from sklearn.decomposition import PCA\n",
    "from sklearn.svm import SVC\n",
    "import numpy as np\n",
    "import pandas as pd\n",
    "from sklearn.ensemble import RandomForestClassifier\n",
    "from sklearn.model_selection import GridSearchCV\n",
    "import numpy as np\n",
    "import matplotlib.pyplot as plt\n"
   ]
  },
  {
   "cell_type": "code",
   "execution_count": 10,
   "metadata": {},
   "outputs": [
    {
     "name": "stdout",
     "output_type": "stream",
     "text": [
      "CPU times: user 4.65 s, sys: 204 ms, total: 4.86 s\n",
      "Wall time: 5.72 s\n"
     ]
    }
   ],
   "source": [
    "%%time\n",
    "from sklearn.linear_model import LogisticRegression\n",
    "from sklearn.preprocessing import StandardScaler\n",
    "df_train = pd.read_csv('train.csv')\n",
    "y_train = df_train.iloc[:,0]\n",
    "X_train = df_train.iloc[:, 1:]\n",
    "df_test = pd.read_csv('test.csv')\n",
    "X_test = df_test.iloc[:,:]"
   ]
  },
  {
   "cell_type": "code",
   "execution_count": 4,
   "metadata": {},
   "outputs": [
    {
     "name": "stdout",
     "output_type": "stream",
     "text": [
      "Fitting 2 folds for each of 110 candidates, totalling 220 fits\n",
      "[CV] C=1, penalty=l1, tol=0.01 .......................................\n",
      "[CV]  C=1, penalty=l1, tol=0.01, score=0.9126315288292148, total=   6.6s\n",
      "[CV] C=1, penalty=l1, tol=0.01 .......................................\n"
     ]
    },
    {
     "name": "stderr",
     "output_type": "stream",
     "text": [
      "[Parallel(n_jobs=1)]: Done   1 out of   1 | elapsed:    6.9s remaining:    0.0s\n"
     ]
    },
    {
     "name": "stdout",
     "output_type": "stream",
     "text": [
      "[CV]  C=1, penalty=l1, tol=0.01, score=0.9096537600609611, total=   6.1s\n",
      "[CV] C=1, penalty=l1, tol=0.1 ........................................\n"
     ]
    },
    {
     "name": "stderr",
     "output_type": "stream",
     "text": [
      "[Parallel(n_jobs=1)]: Done   2 out of   2 | elapsed:   13.4s remaining:    0.0s\n"
     ]
    },
    {
     "name": "stdout",
     "output_type": "stream",
     "text": [
      "[CV]  C=1, penalty=l1, tol=0.1, score=0.9017759367709375, total=   2.6s\n",
      "[CV] C=1, penalty=l1, tol=0.1 ........................................\n"
     ]
    },
    {
     "name": "stderr",
     "output_type": "stream",
     "text": [
      "[Parallel(n_jobs=1)]: Done   3 out of   3 | elapsed:   16.2s remaining:    0.0s\n"
     ]
    },
    {
     "name": "stdout",
     "output_type": "stream",
     "text": [
      "[CV]  C=1, penalty=l1, tol=0.1, score=0.8995570795827975, total=   2.7s\n",
      "[CV] C=1, penalty=l1, tol=1 ..........................................\n"
     ]
    },
    {
     "name": "stderr",
     "output_type": "stream",
     "text": [
      "[Parallel(n_jobs=1)]: Done   4 out of   4 | elapsed:   19.1s remaining:    0.0s\n"
     ]
    },
    {
     "name": "stdout",
     "output_type": "stream",
     "text": [
      "[CV] .. C=1, penalty=l1, tol=1, score=0.865828691139361, total=   2.2s\n",
      "[CV] C=1, penalty=l1, tol=1 ..........................................\n"
     ]
    },
    {
     "name": "stderr",
     "output_type": "stream",
     "text": [
      "[Parallel(n_jobs=1)]: Done   5 out of   5 | elapsed:   21.6s remaining:    0.0s\n"
     ]
    },
    {
     "name": "stdout",
     "output_type": "stream",
     "text": [
      "[CV] . C=1, penalty=l1, tol=1, score=0.8652664666380911, total=   2.2s\n",
      "[CV] C=1, penalty=l1, tol=10 .........................................\n"
     ]
    },
    {
     "name": "stderr",
     "output_type": "stream",
     "text": [
      "[Parallel(n_jobs=1)]: Done   6 out of   6 | elapsed:   23.9s remaining:    0.0s\n"
     ]
    },
    {
     "name": "stdout",
     "output_type": "stream",
     "text": [
      "[CV] . C=1, penalty=l1, tol=10, score=0.531543112888635, total=   1.8s\n",
      "[CV] C=1, penalty=l1, tol=10 .........................................\n"
     ]
    },
    {
     "name": "stderr",
     "output_type": "stream",
     "text": [
      "[Parallel(n_jobs=1)]: Done   7 out of   7 | elapsed:   26.0s remaining:    0.0s\n"
     ]
    },
    {
     "name": "stdout",
     "output_type": "stream",
     "text": [
      "[CV]  C=1, penalty=l1, tol=10, score=0.5132161737391056, total=   1.7s\n",
      "[CV] C=1, penalty=l1, tol=100 ........................................\n"
     ]
    },
    {
     "name": "stderr",
     "output_type": "stream",
     "text": [
      "[Parallel(n_jobs=1)]: Done   8 out of   8 | elapsed:   28.0s remaining:    0.0s\n"
     ]
    },
    {
     "name": "stdout",
     "output_type": "stream",
     "text": [
      "[CV]  C=1, penalty=l1, tol=100, score=0.09836689996667143, total=   1.6s\n",
      "[CV] C=1, penalty=l1, tol=100 ........................................\n"
     ]
    },
    {
     "name": "stderr",
     "output_type": "stream",
     "text": [
      "[Parallel(n_jobs=1)]: Done   9 out of   9 | elapsed:   29.9s remaining:    0.0s\n"
     ]
    },
    {
     "name": "stdout",
     "output_type": "stream",
     "text": [
      "[CV]  C=1, penalty=l1, tol=100, score=0.09839500881078249, total=   1.9s\n",
      "[CV] C=1, penalty=l2, tol=0.01 .......................................\n"
     ]
    },
    {
     "name": "stderr",
     "output_type": "stream",
     "text": [
      "[Parallel(n_jobs=1)]: Done  10 out of  10 | elapsed:   32.1s remaining:    0.0s\n"
     ]
    },
    {
     "name": "stdout",
     "output_type": "stream",
     "text": [
      "[CV]  C=1, penalty=l2, tol=0.01, score=0.9072513450459458, total=  20.4s\n",
      "[CV] C=1, penalty=l2, tol=0.01 .......................................\n"
     ]
    },
    {
     "name": "stderr",
     "output_type": "stream",
     "text": [
      "[Parallel(n_jobs=1)]: Done  11 out of  11 | elapsed:   52.8s remaining:    0.0s\n"
     ]
    },
    {
     "name": "stdout",
     "output_type": "stream",
     "text": [
      "[CV]  C=1, penalty=l2, tol=0.01, score=0.90598656950993, total=  21.7s\n",
      "[CV] C=1, penalty=l2, tol=0.1 ........................................\n"
     ]
    },
    {
     "name": "stderr",
     "output_type": "stream",
     "text": [
      "[Parallel(n_jobs=1)]: Done  12 out of  12 | elapsed:  1.2min remaining:    0.0s\n"
     ]
    },
    {
     "name": "stdout",
     "output_type": "stream",
     "text": [
      "[CV]  C=1, penalty=l2, tol=0.1, score=0.9002999571489787, total=   6.3s\n",
      "[CV] C=1, penalty=l2, tol=0.1 ........................................\n"
     ]
    },
    {
     "name": "stderr",
     "output_type": "stream",
     "text": [
      "[Parallel(n_jobs=1)]: Done  13 out of  13 | elapsed:  1.4min remaining:    0.0s\n"
     ]
    },
    {
     "name": "stdout",
     "output_type": "stream",
     "text": [
      "[CV]  C=1, penalty=l2, tol=0.1, score=0.8996047054341096, total=   6.3s\n",
      "[CV] C=1, penalty=l2, tol=1 ..........................................\n"
     ]
    },
    {
     "name": "stderr",
     "output_type": "stream",
     "text": [
      "[Parallel(n_jobs=1)]: Done  14 out of  14 | elapsed:  1.5min remaining:    0.0s\n"
     ]
    },
    {
     "name": "stdout",
     "output_type": "stream",
     "text": [
      "[CV] . C=1, penalty=l2, tol=1, score=0.7777460362805314, total=   2.6s\n",
      "[CV] C=1, penalty=l2, tol=1 ..........................................\n"
     ]
    },
    {
     "name": "stderr",
     "output_type": "stream",
     "text": [
      "[Parallel(n_jobs=1)]: Done  15 out of  15 | elapsed:  1.5min remaining:    0.0s\n"
     ]
    },
    {
     "name": "stdout",
     "output_type": "stream",
     "text": [
      "[CV] . C=1, penalty=l2, tol=1, score=0.7762061246844787, total=   2.8s\n",
      "[CV] C=1, penalty=l2, tol=10 .........................................\n"
     ]
    },
    {
     "name": "stderr",
     "output_type": "stream",
     "text": [
      "[Parallel(n_jobs=1)]: Done  16 out of  16 | elapsed:  1.6min remaining:    0.0s\n"
     ]
    },
    {
     "name": "stdout",
     "output_type": "stream",
     "text": [
      "[CV]  C=1, penalty=l2, tol=10, score=0.3351902109222492, total=   1.5s\n",
      "[CV] C=1, penalty=l2, tol=10 .........................................\n"
     ]
    },
    {
     "name": "stderr",
     "output_type": "stream",
     "text": [
      "[Parallel(n_jobs=1)]: Done  17 out of  17 | elapsed:  1.6min remaining:    0.0s\n"
     ]
    },
    {
     "name": "stdout",
     "output_type": "stream",
     "text": [
      "[CV]  C=1, penalty=l2, tol=10, score=0.3379530409106063, total=   1.7s\n",
      "[CV] C=1, penalty=l2, tol=100 ........................................\n"
     ]
    },
    {
     "name": "stderr",
     "output_type": "stream",
     "text": [
      "[Parallel(n_jobs=1)]: Done  18 out of  18 | elapsed:  1.6min remaining:    0.0s\n"
     ]
    },
    {
     "name": "stdout",
     "output_type": "stream",
     "text": [
      "[CV]  C=1, penalty=l2, tol=100, score=0.09836689996667143, total=   1.3s\n",
      "[CV] C=1, penalty=l2, tol=100 ........................................\n"
     ]
    },
    {
     "name": "stderr",
     "output_type": "stream",
     "text": [
      "[Parallel(n_jobs=1)]: Done  19 out of  19 | elapsed:  1.7min remaining:    0.0s\n"
     ]
    },
    {
     "name": "stdout",
     "output_type": "stream",
     "text": [
      "[CV]  C=1, penalty=l2, tol=100, score=0.09839500881078249, total=   1.2s\n",
      "[CV] C=10, penalty=l1, tol=0.01 ......................................\n",
      "[CV]  C=10, penalty=l1, tol=0.01, score=0.9101556920439937, total=   5.4s\n",
      "[CV] C=10, penalty=l1, tol=0.01 ......................................\n",
      "[CV]  C=10, penalty=l1, tol=0.01, score=0.9088917464399676, total=   4.3s\n",
      "[CV] C=10, penalty=l1, tol=0.1 .......................................\n",
      "[CV]  C=10, penalty=l1, tol=0.1, score=0.9032995286387658, total=   2.7s\n",
      "[CV] C=10, penalty=l1, tol=0.1 .......................................\n",
      "[CV]  C=10, penalty=l1, tol=0.1, score=0.8974615421250655, total=   2.7s\n",
      "[CV] C=10, penalty=l1, tol=1 .........................................\n",
      "[CV]  C=10, penalty=l1, tol=1, score=0.8666380993191449, total=   2.2s\n",
      "[CV] C=10, penalty=l1, tol=1 .........................................\n",
      "[CV]  C=10, penalty=l1, tol=1, score=0.8590274801162071, total=   2.1s\n",
      "[CV] C=10, penalty=l1, tol=10 ........................................\n",
      "[CV]  C=10, penalty=l1, tol=10, score=0.5209255820597057, total=   1.7s\n",
      "[CV] C=10, penalty=l1, tol=10 ........................................\n",
      "[CV]  C=10, penalty=l1, tol=10, score=0.5076915749869029, total=   1.8s\n",
      "[CV] C=10, penalty=l1, tol=100 .......................................\n",
      "[CV]  C=10, penalty=l1, tol=100, score=0.09836689996667143, total=   1.6s\n",
      "[CV] C=10, penalty=l1, tol=100 .......................................\n",
      "[CV]  C=10, penalty=l1, tol=100, score=0.09839500881078249, total=   1.5s\n",
      "[CV] C=10, penalty=l2, tol=0.01 ......................................\n",
      "[CV]  C=10, penalty=l2, tol=0.01, score=0.9066799980955101, total=  21.2s\n",
      "[CV] C=10, penalty=l2, tol=0.01 ......................................\n",
      "[CV]  C=10, penalty=l2, tol=0.01, score=0.9055103109968091, total=  21.2s\n",
      "[CV] C=10, penalty=l2, tol=0.1 .......................................\n",
      "[CV]  C=10, penalty=l2, tol=0.1, score=0.9002999571489787, total=   6.2s\n",
      "[CV] C=10, penalty=l2, tol=0.1 .......................................\n",
      "[CV]  C=10, penalty=l2, tol=0.1, score=0.8996047054341096, total=   6.7s\n",
      "[CV] C=10, penalty=l2, tol=1 .........................................\n",
      "[CV]  C=10, penalty=l2, tol=1, score=0.7777460362805314, total=   3.1s\n",
      "[CV] C=10, penalty=l2, tol=1 .........................................\n",
      "[CV]  C=10, penalty=l2, tol=1, score=0.7762061246844787, total=   2.7s\n",
      "[CV] C=10, penalty=l2, tol=10 ........................................\n",
      "[CV]  C=10, penalty=l2, tol=10, score=0.3351902109222492, total=   1.6s\n",
      "[CV] C=10, penalty=l2, tol=10 ........................................\n",
      "[CV]  C=10, penalty=l2, tol=10, score=0.3379530409106063, total=   1.6s\n",
      "[CV] C=10, penalty=l2, tol=100 .......................................\n",
      "[CV]  C=10, penalty=l2, tol=100, score=0.09836689996667143, total=   1.1s\n",
      "[CV] C=10, penalty=l2, tol=100 .......................................\n",
      "[CV]  C=10, penalty=l2, tol=100, score=0.09839500881078249, total=   1.2s\n",
      "[CV] C=20, penalty=l1, tol=0.01 ......................................\n",
      "[CV]  C=20, penalty=l1, tol=0.01, score=0.9089177736513832, total=   5.9s\n",
      "[CV] C=20, penalty=l1, tol=0.01 ......................................\n",
      "[CV]  C=20, penalty=l1, tol=0.01, score=0.9087964947373435, total=   5.2s\n",
      "[CV] C=20, penalty=l1, tol=0.1 .......................................\n",
      "[CV]  C=20, penalty=l1, tol=0.1, score=0.9017759367709375, total=   3.1s\n",
      "[CV] C=20, penalty=l1, tol=0.1 .......................................\n",
      "[CV]  C=20, penalty=l1, tol=0.1, score=0.8984616850026195, total=   2.9s\n",
      "[CV] C=20, penalty=l1, tol=1 .........................................\n",
      "[CV]  C=20, penalty=l1, tol=1, score=0.8667809360567538, total=   2.2s\n",
      "[CV] C=20, penalty=l1, tol=1 .........................................\n",
      "[CV]  C=20, penalty=l1, tol=1, score=0.8583607181978378, total=   2.0s\n",
      "[CV] C=20, penalty=l1, tol=10 ........................................\n",
      "[CV]  C=20, penalty=l1, tol=10, score=0.5372089701471219, total=   1.6s\n",
      "[CV] C=20, penalty=l1, tol=10 ........................................\n",
      "[CV]  C=20, penalty=l1, tol=10, score=0.5164071057770158, total=   1.5s\n",
      "[CV] C=20, penalty=l1, tol=100 .......................................\n",
      "[CV]  C=20, penalty=l1, tol=100, score=0.09836689996667143, total=   1.4s\n",
      "[CV] C=20, penalty=l1, tol=100 .......................................\n",
      "[CV]  C=20, penalty=l1, tol=100, score=0.09839500881078249, total=   1.4s\n",
      "[CV] C=20, penalty=l2, tol=0.01 ......................................\n",
      "[CV]  C=20, penalty=l2, tol=0.01, score=0.9067752225872494, total=  22.9s\n",
      "[CV] C=20, penalty=l2, tol=0.01 ......................................\n",
      "[CV]  C=20, penalty=l2, tol=0.01, score=0.9050340524836882, total=  21.9s\n",
      "[CV] C=20, penalty=l2, tol=0.1 .......................................\n",
      "[CV]  C=20, penalty=l2, tol=0.1, score=0.9002999571489787, total=   6.3s\n",
      "[CV] C=20, penalty=l2, tol=0.1 .......................................\n",
      "[CV]  C=20, penalty=l2, tol=0.1, score=0.8996047054341096, total=   6.5s\n",
      "[CV] C=20, penalty=l2, tol=1 .........................................\n",
      "[CV]  C=20, penalty=l2, tol=1, score=0.7777460362805314, total=   2.7s\n",
      "[CV] C=20, penalty=l2, tol=1 .........................................\n",
      "[CV]  C=20, penalty=l2, tol=1, score=0.7762061246844787, total=   2.6s\n",
      "[CV] C=20, penalty=l2, tol=10 ........................................\n",
      "[CV]  C=20, penalty=l2, tol=10, score=0.3351902109222492, total=   1.4s\n",
      "[CV] C=20, penalty=l2, tol=10 ........................................\n",
      "[CV]  C=20, penalty=l2, tol=10, score=0.3379530409106063, total=   1.3s\n",
      "[CV] C=20, penalty=l2, tol=100 .......................................\n",
      "[CV]  C=20, penalty=l2, tol=100, score=0.09836689996667143, total=   1.0s\n",
      "[CV] C=20, penalty=l2, tol=100 .......................................\n",
      "[CV]  C=20, penalty=l2, tol=100, score=0.09839500881078249, total=   0.9s\n",
      "[CV] C=30, penalty=l1, tol=0.01 ......................................\n",
      "[CV]  C=30, penalty=l1, tol=0.01, score=0.911441222682474, total=   4.9s\n",
      "[CV] C=30, penalty=l1, tol=0.01 ......................................\n",
      "[CV]  C=30, penalty=l1, tol=0.01, score=0.9102252702767062, total=   4.7s\n",
      "[CV] C=30, penalty=l1, tol=0.1 .......................................\n",
      "[CV]  C=30, penalty=l1, tol=0.1, score=0.9004904061324572, total=   2.6s\n",
      "[CV] C=30, penalty=l1, tol=0.1 .......................................\n",
      "[CV]  C=30, penalty=l1, tol=0.1, score=0.8994142020288612, total=   2.6s\n",
      "[CV] C=30, penalty=l1, tol=1 .........................................\n",
      "[CV]  C=30, penalty=l1, tol=1, score=0.8683045279245822, total=   2.1s\n",
      "[CV] C=30, penalty=l1, tol=1 .........................................\n",
      "[CV]  C=30, penalty=l1, tol=1, score=0.8638853169500404, total=   2.0s\n",
      "[CV] C=30, penalty=l1, tol=10 ........................................\n",
      "[CV]  C=30, penalty=l1, tol=10, score=0.5164976431938294, total=   1.5s\n",
      "[CV] C=30, penalty=l1, tol=10 ........................................\n",
      "[CV]  C=30, penalty=l1, tol=10, score=0.515978473115207, total=   1.5s\n",
      "[CV] C=30, penalty=l1, tol=100 .......................................\n",
      "[CV]  C=30, penalty=l1, tol=100, score=0.09836689996667143, total=   1.3s\n",
      "[CV] C=30, penalty=l1, tol=100 .......................................\n",
      "[CV]  C=30, penalty=l1, tol=100, score=0.09839500881078249, total=   1.2s\n",
      "[CV] C=30, penalty=l2, tol=0.01 ......................................\n",
      "[CV]  C=30, penalty=l2, tol=0.01, score=0.9061562633909441, total=  22.6s\n",
      "[CV] C=30, penalty=l2, tol=0.01 ......................................\n",
      "[CV]  C=30, penalty=l2, tol=0.01, score=0.9056055626994333, total=  21.4s\n",
      "[CV] C=30, penalty=l2, tol=0.1 .......................................\n",
      "[CV]  C=30, penalty=l2, tol=0.1, score=0.9002999571489787, total=   6.7s\n",
      "[CV] C=30, penalty=l2, tol=0.1 .......................................\n",
      "[CV]  C=30, penalty=l2, tol=0.1, score=0.8996047054341096, total=   6.8s\n",
      "[CV] C=30, penalty=l2, tol=1 .........................................\n",
      "[CV]  C=30, penalty=l2, tol=1, score=0.7777460362805314, total=   2.7s\n",
      "[CV] C=30, penalty=l2, tol=1 .........................................\n",
      "[CV]  C=30, penalty=l2, tol=1, score=0.7762061246844787, total=   2.6s\n",
      "[CV] C=30, penalty=l2, tol=10 ........................................\n"
     ]
    },
    {
     "name": "stdout",
     "output_type": "stream",
     "text": [
      "[CV]  C=30, penalty=l2, tol=10, score=0.3351902109222492, total=   1.5s\n",
      "[CV] C=30, penalty=l2, tol=10 ........................................\n",
      "[CV]  C=30, penalty=l2, tol=10, score=0.3379530409106063, total=   1.6s\n",
      "[CV] C=30, penalty=l2, tol=100 .......................................\n",
      "[CV]  C=30, penalty=l2, tol=100, score=0.09836689996667143, total=   1.1s\n",
      "[CV] C=30, penalty=l2, tol=100 .......................................\n",
      "[CV]  C=30, penalty=l2, tol=100, score=0.09839500881078249, total=   1.1s\n",
      "[CV] C=50, penalty=l1, tol=0.01 ......................................\n",
      "[CV]  C=50, penalty=l1, tol=0.01, score=0.9119173451411703, total=   5.0s\n",
      "[CV] C=50, penalty=l1, tol=0.01 ......................................\n",
      "[CV]  C=50, penalty=l1, tol=0.01, score=0.9088441205886555, total=   5.0s\n",
      "[CV] C=50, penalty=l1, tol=0.1 .......................................\n",
      "[CV]  C=50, penalty=l1, tol=0.1, score=0.9008713040994144, total=   2.7s\n",
      "[CV] C=50, penalty=l1, tol=0.1 .......................................\n",
      "[CV]  C=50, penalty=l1, tol=0.1, score=0.8976044196790017, total=   2.9s\n",
      "[CV] C=50, penalty=l1, tol=1 .........................................\n",
      "[CV]  C=50, penalty=l1, tol=1, score=0.8733990382326334, total=   2.4s\n",
      "[CV] C=50, penalty=l1, tol=1 .........................................\n",
      "[CV]  C=50, penalty=l1, tol=1, score=0.8587417250083346, total=   2.5s\n",
      "[CV] C=50, penalty=l1, tol=10 ........................................\n",
      "[CV]  C=50, penalty=l1, tol=10, score=0.5213064800266629, total=   1.9s\n",
      "[CV] C=50, penalty=l1, tol=10 ........................................\n",
      "[CV]  C=50, penalty=l1, tol=10, score=0.5166928608848883, total=   1.6s\n",
      "[CV] C=50, penalty=l1, tol=100 .......................................\n",
      "[CV]  C=50, penalty=l1, tol=100, score=0.09836689996667143, total=   1.6s\n",
      "[CV] C=50, penalty=l1, tol=100 .......................................\n",
      "[CV]  C=50, penalty=l1, tol=100, score=0.09839500881078249, total=   1.5s\n",
      "[CV] C=50, penalty=l2, tol=0.01 ......................................\n",
      "[CV]  C=50, penalty=l2, tol=0.01, score=0.9060610388992049, total=  22.0s\n",
      "[CV] C=50, penalty=l2, tol=0.01 ......................................\n",
      "[CV]  C=50, penalty=l2, tol=0.01, score=0.9056055626994333, total=  20.5s\n",
      "[CV] C=50, penalty=l2, tol=0.1 .......................................\n",
      "[CV]  C=50, penalty=l2, tol=0.1, score=0.9002999571489787, total=   6.1s\n",
      "[CV] C=50, penalty=l2, tol=0.1 .......................................\n",
      "[CV]  C=50, penalty=l2, tol=0.1, score=0.8996047054341096, total=   6.3s\n",
      "[CV] C=50, penalty=l2, tol=1 .........................................\n",
      "[CV]  C=50, penalty=l2, tol=1, score=0.7777460362805314, total=   2.6s\n",
      "[CV] C=50, penalty=l2, tol=1 .........................................\n",
      "[CV]  C=50, penalty=l2, tol=1, score=0.7762061246844787, total=   2.8s\n",
      "[CV] C=50, penalty=l2, tol=10 ........................................\n",
      "[CV]  C=50, penalty=l2, tol=10, score=0.3351902109222492, total=   1.5s\n",
      "[CV] C=50, penalty=l2, tol=10 ........................................\n",
      "[CV]  C=50, penalty=l2, tol=10, score=0.3379530409106063, total=   1.4s\n",
      "[CV] C=50, penalty=l2, tol=100 .......................................\n",
      "[CV]  C=50, penalty=l2, tol=100, score=0.09836689996667143, total=   1.0s\n",
      "[CV] C=50, penalty=l2, tol=100 .......................................\n",
      "[CV]  C=50, penalty=l2, tol=100, score=0.09839500881078249, total=   1.1s\n",
      "[CV] C=100, penalty=l1, tol=0.01 .....................................\n",
      "[CV]  C=100, penalty=l1, tol=0.01, score=0.9105365900109508, total=   5.6s\n",
      "[CV] C=100, penalty=l1, tol=0.01 .....................................\n",
      "[CV]  C=100, penalty=l1, tol=0.01, score=0.909558508358337, total=   4.6s\n",
      "[CV] C=100, penalty=l1, tol=0.1 ......................................\n",
      "[CV]  C=100, penalty=l1, tol=0.1, score=0.9004427938865877, total=   3.0s\n",
      "[CV] C=100, penalty=l1, tol=0.1 ......................................\n",
      "[CV]  C=100, penalty=l1, tol=0.1, score=0.8985569367052436, total=   2.8s\n",
      "[CV] C=100, penalty=l1, tol=1 ........................................\n",
      "[CV]  C=100, penalty=l1, tol=1, score=0.867685568728277, total=   2.0s\n",
      "[CV] C=100, penalty=l1, tol=1 ........................................\n",
      "[CV]  C=100, penalty=l1, tol=1, score=0.8632185550316712, total=   2.2s\n",
      "[CV] C=100, penalty=l1, tol=10 .......................................\n",
      "[CV]  C=100, penalty=l1, tol=10, score=0.5177355615864401, total=   1.4s\n",
      "[CV] C=100, penalty=l1, tol=10 .......................................\n",
      "[CV]  C=100, penalty=l1, tol=10, score=0.5109777587274372, total=   1.7s\n",
      "[CV] C=100, penalty=l1, tol=100 ......................................\n",
      "[CV]  C=100, penalty=l1, tol=100, score=0.09836689996667143, total=   1.5s\n",
      "[CV] C=100, penalty=l1, tol=100 ......................................\n",
      "[CV]  C=100, penalty=l1, tol=100, score=0.09839500881078249, total=   1.5s\n",
      "[CV] C=100, penalty=l2, tol=0.01 .....................................\n",
      "[CV]  C=100, penalty=l2, tol=0.01, score=0.9060610388992049, total=  21.9s\n",
      "[CV] C=100, penalty=l2, tol=0.01 .....................................\n",
      "[CV]  C=100, penalty=l2, tol=0.01, score=0.9050340524836882, total=  20.9s\n",
      "[CV] C=100, penalty=l2, tol=0.1 ......................................\n",
      "[CV]  C=100, penalty=l2, tol=0.1, score=0.9002999571489787, total=   6.1s\n",
      "[CV] C=100, penalty=l2, tol=0.1 ......................................\n",
      "[CV]  C=100, penalty=l2, tol=0.1, score=0.8996047054341096, total=   6.4s\n",
      "[CV] C=100, penalty=l2, tol=1 ........................................\n",
      "[CV]  C=100, penalty=l2, tol=1, score=0.7777460362805314, total=   2.6s\n",
      "[CV] C=100, penalty=l2, tol=1 ........................................\n",
      "[CV]  C=100, penalty=l2, tol=1, score=0.7762061246844787, total=   2.7s\n",
      "[CV] C=100, penalty=l2, tol=10 .......................................\n",
      "[CV]  C=100, penalty=l2, tol=10, score=0.3351902109222492, total=   1.6s\n",
      "[CV] C=100, penalty=l2, tol=10 .......................................\n",
      "[CV]  C=100, penalty=l2, tol=10, score=0.3379530409106063, total=   1.4s\n",
      "[CV] C=100, penalty=l2, tol=100 ......................................\n",
      "[CV]  C=100, penalty=l2, tol=100, score=0.09836689996667143, total=   0.9s\n",
      "[CV] C=100, penalty=l2, tol=100 ......................................\n",
      "[CV]  C=100, penalty=l2, tol=100, score=0.09839500881078249, total=   0.9s\n",
      "[CV] C=200, penalty=l1, tol=0.01 .....................................\n",
      "[CV]  C=200, penalty=l1, tol=0.01, score=0.9099652430605152, total=   5.2s\n",
      "[CV] C=200, penalty=l1, tol=0.01 .....................................\n",
      "[CV]  C=200, penalty=l1, tol=0.01, score=0.9105110253845787, total=   4.7s\n",
      "[CV] C=200, penalty=l1, tol=0.1 ......................................\n",
      "[CV]  C=200, penalty=l1, tol=0.1, score=0.901966385754416, total=   2.8s\n",
      "[CV] C=200, penalty=l1, tol=0.1 ......................................\n",
      "[CV]  C=200, penalty=l1, tol=0.1, score=0.8985093108539315, total=   2.7s\n",
      "[CV] C=200, penalty=l1, tol=1 ........................................\n",
      "[CV]  C=200, penalty=l1, tol=1, score=0.8693043850878446, total=   2.0s\n",
      "[CV] C=200, penalty=l1, tol=1 ........................................\n",
      "[CV]  C=200, penalty=l1, tol=1, score=0.8705053102824213, total=   2.3s\n",
      "[CV] C=200, penalty=l1, tol=10 .......................................\n",
      "[CV]  C=200, penalty=l1, tol=10, score=0.5226872351568823, total=   1.8s\n",
      "[CV] C=200, penalty=l1, tol=10 .......................................\n",
      "[CV]  C=200, penalty=l1, tol=10, score=0.5249321331618803, total=   1.7s\n",
      "[CV] C=200, penalty=l1, tol=100 ......................................\n",
      "[CV]  C=200, penalty=l1, tol=100, score=0.09836689996667143, total=   1.5s\n",
      "[CV] C=200, penalty=l1, tol=100 ......................................\n",
      "[CV]  C=200, penalty=l1, tol=100, score=0.09839500881078249, total=   1.6s\n",
      "[CV] C=200, penalty=l2, tol=0.01 .....................................\n",
      "[CV]  C=200, penalty=l2, tol=0.01, score=0.9062038756368138, total=  22.9s\n",
      "[CV] C=200, penalty=l2, tol=0.01 .....................................\n",
      "[CV]  C=200, penalty=l2, tol=0.01, score=0.9056055626994333, total=  22.3s\n",
      "[CV] C=200, penalty=l2, tol=0.1 ......................................\n",
      "[CV]  C=200, penalty=l2, tol=0.1, score=0.9002999571489787, total=   7.5s\n",
      "[CV] C=200, penalty=l2, tol=0.1 ......................................\n"
     ]
    },
    {
     "name": "stdout",
     "output_type": "stream",
     "text": [
      "[CV]  C=200, penalty=l2, tol=0.1, score=0.8996047054341096, total=   6.6s\n",
      "[CV] C=200, penalty=l2, tol=1 ........................................\n",
      "[CV]  C=200, penalty=l2, tol=1, score=0.7777460362805314, total=   2.8s\n",
      "[CV] C=200, penalty=l2, tol=1 ........................................\n",
      "[CV]  C=200, penalty=l2, tol=1, score=0.7762061246844787, total=   2.8s\n",
      "[CV] C=200, penalty=l2, tol=10 .......................................\n",
      "[CV]  C=200, penalty=l2, tol=10, score=0.3351902109222492, total=   1.9s\n",
      "[CV] C=200, penalty=l2, tol=10 .......................................\n",
      "[CV]  C=200, penalty=l2, tol=10, score=0.3379530409106063, total=   1.8s\n",
      "[CV] C=200, penalty=l2, tol=100 ......................................\n",
      "[CV]  C=200, penalty=l2, tol=100, score=0.09836689996667143, total=   1.3s\n",
      "[CV] C=200, penalty=l2, tol=100 ......................................\n",
      "[CV]  C=200, penalty=l2, tol=100, score=0.09839500881078249, total=   1.2s\n",
      "[CV] C=300, penalty=l1, tol=0.01 .....................................\n",
      "[CV]  C=300, penalty=l1, tol=0.01, score=0.9108222634861687, total=   5.9s\n",
      "[CV] C=300, penalty=l1, tol=0.01 .....................................\n",
      "[CV]  C=300, penalty=l1, tol=0.01, score=0.907558222603229, total=   8.1s\n",
      "[CV] C=300, penalty=l1, tol=0.1 ......................................\n",
      "[CV]  C=300, penalty=l1, tol=0.1, score=0.9030614674094177, total=   3.2s\n",
      "[CV] C=300, penalty=l1, tol=0.1 ......................................\n",
      "[CV]  C=300, penalty=l1, tol=0.1, score=0.8992236986236128, total=   3.0s\n",
      "[CV] C=300, penalty=l1, tol=1 ........................................\n",
      "[CV]  C=300, penalty=l1, tol=1, score=0.8694948340713231, total=   2.4s\n",
      "[CV] C=300, penalty=l1, tol=1 ........................................\n",
      "[CV]  C=300, penalty=l1, tol=1, score=0.8648854598275945, total=   2.4s\n",
      "[CV] C=300, penalty=l1, tol=10 .......................................\n",
      "[CV]  C=300, penalty=l1, tol=10, score=0.5274008474979764, total=   1.8s\n",
      "[CV] C=300, penalty=l1, tol=10 .......................................\n",
      "[CV]  C=300, penalty=l1, tol=10, score=0.512882792779921, total=   1.6s\n",
      "[CV] C=300, penalty=l1, tol=100 ......................................\n",
      "[CV]  C=300, penalty=l1, tol=100, score=0.09836689996667143, total=   1.5s\n",
      "[CV] C=300, penalty=l1, tol=100 ......................................\n",
      "[CV]  C=300, penalty=l1, tol=100, score=0.09839500881078249, total=   1.7s\n",
      "[CV] C=300, penalty=l2, tol=0.01 .....................................\n",
      "[CV]  C=300, penalty=l2, tol=0.01, score=0.9065847736037709, total=  21.9s\n",
      "[CV] C=300, penalty=l2, tol=0.01 .....................................\n",
      "[CV]  C=300, penalty=l2, tol=0.01, score=0.9056531885507454, total=  21.1s\n",
      "[CV] C=300, penalty=l2, tol=0.1 ......................................\n",
      "[CV]  C=300, penalty=l2, tol=0.1, score=0.9002999571489787, total=   6.2s\n",
      "[CV] C=300, penalty=l2, tol=0.1 ......................................\n",
      "[CV]  C=300, penalty=l2, tol=0.1, score=0.8996047054341096, total=   6.4s\n",
      "[CV] C=300, penalty=l2, tol=1 ........................................\n",
      "[CV]  C=300, penalty=l2, tol=1, score=0.7777460362805314, total=   2.5s\n",
      "[CV] C=300, penalty=l2, tol=1 ........................................\n",
      "[CV]  C=300, penalty=l2, tol=1, score=0.7762061246844787, total=   2.6s\n",
      "[CV] C=300, penalty=l2, tol=10 .......................................\n",
      "[CV]  C=300, penalty=l2, tol=10, score=0.3351902109222492, total=   1.4s\n",
      "[CV] C=300, penalty=l2, tol=10 .......................................\n",
      "[CV]  C=300, penalty=l2, tol=10, score=0.3379530409106063, total=   1.4s\n",
      "[CV] C=300, penalty=l2, tol=100 ......................................\n",
      "[CV]  C=300, penalty=l2, tol=100, score=0.09836689996667143, total=   0.9s\n",
      "[CV] C=300, penalty=l2, tol=100 ......................................\n",
      "[CV]  C=300, penalty=l2, tol=100, score=0.09839500881078249, total=   1.0s\n",
      "[CV] C=400, penalty=l1, tol=0.01 .....................................\n",
      "[CV]  C=400, penalty=l1, tol=0.01, score=0.913012426796172, total=   4.3s\n",
      "[CV] C=400, penalty=l1, tol=0.01 .....................................\n",
      "[CV]  C=400, penalty=l1, tol=0.01, score=0.9086059913320951, total=   5.4s\n",
      "[CV] C=400, penalty=l1, tol=0.1 ......................................\n",
      "[CV]  C=400, penalty=l1, tol=0.1, score=0.9016331000333285, total=   2.9s\n",
      "[CV] C=400, penalty=l1, tol=0.1 ......................................\n",
      "[CV]  C=400, penalty=l1, tol=0.1, score=0.8981283040434348, total=   2.9s\n",
      "[CV] C=400, penalty=l1, tol=1 ........................................\n",
      "[CV]  C=400, penalty=l1, tol=1, score=0.8688758748750178, total=   2.1s\n",
      "[CV] C=400, penalty=l1, tol=1 ........................................\n",
      "[CV]  C=400, penalty=l1, tol=1, score=0.8661713578130209, total=   2.2s\n",
      "[CV] C=400, penalty=l1, tol=10 .......................................\n",
      "[CV]  C=400, penalty=l1, tol=10, score=0.5231157453697091, total=   1.9s\n",
      "[CV] C=400, penalty=l1, tol=10 .......................................\n",
      "[CV]  C=400, penalty=l1, tol=10, score=0.5145973234271563, total=   1.7s\n",
      "[CV] C=400, penalty=l1, tol=100 ......................................\n",
      "[CV]  C=400, penalty=l1, tol=100, score=0.09836689996667143, total=   1.4s\n",
      "[CV] C=400, penalty=l1, tol=100 ......................................\n",
      "[CV]  C=400, penalty=l1, tol=100, score=0.09839500881078249, total=   1.5s\n",
      "[CV] C=400, penalty=l2, tol=0.01 .....................................\n",
      "[CV]  C=400, penalty=l2, tol=0.01, score=0.9067276103413798, total=  22.9s\n",
      "[CV] C=400, penalty=l2, tol=0.01 .....................................\n",
      "[CV]  C=400, penalty=l2, tol=0.01, score=0.9057008144020574, total=  21.5s\n",
      "[CV] C=400, penalty=l2, tol=0.1 ......................................\n",
      "[CV]  C=400, penalty=l2, tol=0.1, score=0.9002999571489787, total=   6.8s\n",
      "[CV] C=400, penalty=l2, tol=0.1 ......................................\n",
      "[CV]  C=400, penalty=l2, tol=0.1, score=0.8996047054341096, total=   6.3s\n",
      "[CV] C=400, penalty=l2, tol=1 ........................................\n",
      "[CV]  C=400, penalty=l2, tol=1, score=0.7777460362805314, total=   2.6s\n",
      "[CV] C=400, penalty=l2, tol=1 ........................................\n",
      "[CV]  C=400, penalty=l2, tol=1, score=0.7762061246844787, total=   2.6s\n",
      "[CV] C=400, penalty=l2, tol=10 .......................................\n",
      "[CV]  C=400, penalty=l2, tol=10, score=0.3351902109222492, total=   1.5s\n",
      "[CV] C=400, penalty=l2, tol=10 .......................................\n",
      "[CV]  C=400, penalty=l2, tol=10, score=0.3379530409106063, total=   1.3s\n",
      "[CV] C=400, penalty=l2, tol=100 ......................................\n",
      "[CV]  C=400, penalty=l2, tol=100, score=0.09836689996667143, total=   1.1s\n",
      "[CV] C=400, penalty=l2, tol=100 ......................................\n",
      "[CV]  C=400, penalty=l2, tol=100, score=0.09839500881078249, total=   1.2s\n",
      "[CV] C=500, penalty=l1, tol=0.01 .....................................\n",
      "[CV]  C=500, penalty=l1, tol=0.01, score=0.9110603247155168, total=   4.8s\n",
      "[CV] C=500, penalty=l1, tol=0.01 .....................................\n",
      "[CV]  C=500, penalty=l1, tol=0.01, score=0.9085107396294709, total=   6.2s\n",
      "[CV] C=500, penalty=l1, tol=0.1 ......................................\n",
      "[CV]  C=500, penalty=l1, tol=0.1, score=0.9025853449507213, total=   2.8s\n",
      "[CV] C=500, penalty=l1, tol=0.1 ......................................\n",
      "[CV]  C=500, penalty=l1, tol=0.1, score=0.8985569367052436, total=   2.8s\n",
      "[CV] C=500, penalty=l1, tol=1 ........................................\n",
      "[CV]  C=500, penalty=l1, tol=1, score=0.8619720992239204, total=   2.0s\n",
      "[CV] C=500, penalty=l1, tol=1 ........................................\n",
      "[CV]  C=500, penalty=l1, tol=1, score=0.865171214935467, total=   2.0s\n",
      "[CV] C=500, penalty=l1, tol=10 .......................................\n",
      "[CV]  C=500, penalty=l1, tol=10, score=0.523258582107318, total=   1.6s\n",
      "[CV] C=500, penalty=l1, tol=10 .......................................\n",
      "[CV]  C=500, penalty=l1, tol=10, score=0.5249321331618803, total=   1.6s\n",
      "[CV] C=500, penalty=l1, tol=100 ......................................\n",
      "[CV]  C=500, penalty=l1, tol=100, score=0.09836689996667143, total=   1.4s\n",
      "[CV] C=500, penalty=l1, tol=100 ......................................\n",
      "[CV]  C=500, penalty=l1, tol=100, score=0.09839500881078249, total=   1.4s\n",
      "[CV] C=500, penalty=l2, tol=0.01 .....................................\n"
     ]
    },
    {
     "name": "stdout",
     "output_type": "stream",
     "text": [
      "[CV]  C=500, penalty=l2, tol=0.01, score=0.9055373041946388, total=  23.1s\n",
      "[CV] C=500, penalty=l2, tol=0.01 .....................................\n",
      "[CV]  C=500, penalty=l2, tol=0.01, score=0.9057008144020574, total=  22.0s\n",
      "[CV] C=500, penalty=l2, tol=0.1 ......................................\n",
      "[CV]  C=500, penalty=l2, tol=0.1, score=0.9002999571489787, total=   6.1s\n",
      "[CV] C=500, penalty=l2, tol=0.1 ......................................\n",
      "[CV]  C=500, penalty=l2, tol=0.1, score=0.8996047054341096, total=   6.1s\n",
      "[CV] C=500, penalty=l2, tol=1 ........................................\n",
      "[CV]  C=500, penalty=l2, tol=1, score=0.7777460362805314, total=   2.7s\n",
      "[CV] C=500, penalty=l2, tol=1 ........................................\n",
      "[CV]  C=500, penalty=l2, tol=1, score=0.7762061246844787, total=   2.7s\n",
      "[CV] C=500, penalty=l2, tol=10 .......................................\n",
      "[CV]  C=500, penalty=l2, tol=10, score=0.3351902109222492, total=   1.7s\n",
      "[CV] C=500, penalty=l2, tol=10 .......................................\n",
      "[CV]  C=500, penalty=l2, tol=10, score=0.3379530409106063, total=   1.5s\n",
      "[CV] C=500, penalty=l2, tol=100 ......................................\n",
      "[CV]  C=500, penalty=l2, tol=100, score=0.09836689996667143, total=   1.1s\n",
      "[CV] C=500, penalty=l2, tol=100 ......................................\n",
      "[CV]  C=500, penalty=l2, tol=100, score=0.09839500881078249, total=   1.0s\n",
      "[CV] C=1000, penalty=l1, tol=0.01 ....................................\n",
      "[CV]  C=1000, penalty=l1, tol=0.01, score=0.911441222682474, total=   4.4s\n",
      "[CV] C=1000, penalty=l1, tol=0.01 ....................................\n",
      "[CV]  C=1000, penalty=l1, tol=0.01, score=0.909129875696528, total=   5.6s\n",
      "[CV] C=1000, penalty=l1, tol=0.1 .....................................\n",
      "[CV]  C=1000, penalty=l1, tol=0.1, score=0.9011569775746322, total=   2.5s\n",
      "[CV] C=1000, penalty=l1, tol=0.1 .....................................\n",
      "[CV]  C=1000, penalty=l1, tol=0.1, score=0.9006048483116635, total=   2.6s\n",
      "[CV] C=1000, penalty=l1, tol=1 .......................................\n",
      "[CV]  C=1000, penalty=l1, tol=1, score=0.8748750178545922, total=   2.0s\n",
      "[CV] C=1000, penalty=l1, tol=1 .......................................\n",
      "[CV]  C=1000, penalty=l1, tol=1, score=0.8609325141686908, total=   1.9s\n",
      "[CV] C=1000, penalty=l1, tol=10 ......................................\n",
      "[CV]  C=1000, penalty=l1, tol=10, score=0.5206875208303575, total=   1.5s\n",
      "[CV] C=1000, penalty=l1, tol=10 ......................................\n",
      "[CV]  C=1000, penalty=l1, tol=10, score=0.5038338810306234, total=   1.6s\n",
      "[CV] C=1000, penalty=l1, tol=100 .....................................\n",
      "[CV]  C=1000, penalty=l1, tol=100, score=0.09836689996667143, total=   1.3s\n",
      "[CV] C=1000, penalty=l1, tol=100 .....................................\n",
      "[CV]  C=1000, penalty=l1, tol=100, score=0.09839500881078249, total=   1.3s\n",
      "[CV] C=1000, penalty=l2, tol=0.01 ....................................\n",
      "[CV]  C=1000, penalty=l2, tol=0.01, score=0.9061562633909441, total=  21.2s\n",
      "[CV] C=1000, penalty=l2, tol=0.01 ....................................\n",
      "[CV]  C=1000, penalty=l2, tol=0.01, score=0.904986426632376, total=  20.9s\n",
      "[CV] C=1000, penalty=l2, tol=0.1 .....................................\n",
      "[CV]  C=1000, penalty=l2, tol=0.1, score=0.9002999571489787, total=   6.4s\n",
      "[CV] C=1000, penalty=l2, tol=0.1 .....................................\n",
      "[CV]  C=1000, penalty=l2, tol=0.1, score=0.8996047054341096, total=   7.2s\n",
      "[CV] C=1000, penalty=l2, tol=1 .......................................\n",
      "[CV]  C=1000, penalty=l2, tol=1, score=0.7777460362805314, total=   3.2s\n",
      "[CV] C=1000, penalty=l2, tol=1 .......................................\n",
      "[CV]  C=1000, penalty=l2, tol=1, score=0.7762061246844787, total=   3.1s\n",
      "[CV] C=1000, penalty=l2, tol=10 ......................................\n",
      "[CV]  C=1000, penalty=l2, tol=10, score=0.3351902109222492, total=   1.5s\n",
      "[CV] C=1000, penalty=l2, tol=10 ......................................\n",
      "[CV]  C=1000, penalty=l2, tol=10, score=0.3379530409106063, total=   1.4s\n",
      "[CV] C=1000, penalty=l2, tol=100 .....................................\n",
      "[CV]  C=1000, penalty=l2, tol=100, score=0.09836689996667143, total=   1.1s\n",
      "[CV] C=1000, penalty=l2, tol=100 .....................................\n",
      "[CV]  C=1000, penalty=l2, tol=100, score=0.09839500881078249, total=   1.1s\n"
     ]
    },
    {
     "name": "stderr",
     "output_type": "stream",
     "text": [
      "[Parallel(n_jobs=1)]: Done 220 out of 220 | elapsed: 18.3min finished\n"
     ]
    },
    {
     "data": {
      "text/plain": [
       "GridSearchCV(cv=2, error_score='raise',\n",
       "       estimator=LogisticRegression(C=1.0, class_weight=None, dual=False, fit_intercept=True,\n",
       "          intercept_scaling=1, max_iter=100, multi_class='ovr', n_jobs=1,\n",
       "          penalty='l2', random_state=None, solver='liblinear', tol=0.0001,\n",
       "          verbose=0, warm_start=False),\n",
       "       fit_params=None, iid=True, n_jobs=1,\n",
       "       param_grid={'C': [1, 10, 20, 30, 50, 100, 200, 300, 400, 500, 1000], 'penalty': ['l1', 'l2'], 'tol': [0.01, 0.1, 1, 10, 100]},\n",
       "       pre_dispatch='2*n_jobs', refit=True, return_train_score='warn',\n",
       "       scoring='accuracy', verbose=20)"
      ]
     },
     "execution_count": 4,
     "metadata": {},
     "output_type": "execute_result"
    }
   ],
   "source": [
    "param_grid = {'C': [1,10,20,30,50,100,200,300,400,500,1000],\n",
    "              'penalty': [ \"l1\", \"l2\"],\n",
    "             'tol':[0.01, 0.1, 1, 10, 100]}\n",
    "clf = GridSearchCV(LogisticRegression(), param_grid,  cv=2, verbose=20, scoring=\"accuracy\")\n",
    "clf.fit(X_train, y_train)"
   ]
  },
  {
   "cell_type": "code",
   "execution_count": 6,
   "metadata": {},
   "outputs": [
    {
     "name": "stdout",
     "output_type": "stream",
     "text": [
      "{'C': 1, 'penalty': 'l1', 'tol': 0.01}\n"
     ]
    }
   ],
   "source": [
    "print(clf.best_params_)"
   ]
  },
  {
   "cell_type": "code",
   "execution_count": 8,
   "metadata": {
    "collapsed": true
   },
   "outputs": [],
   "source": [
    "y_test = clf.predict(X_test)"
   ]
  },
  {
   "cell_type": "code",
   "execution_count": 9,
   "metadata": {
    "collapsed": true
   },
   "outputs": [],
   "source": [
    "filename = 'sample_submission_' + 'lr_grid' +'.csv'\n",
    "submission =pd.DataFrame({'ImageId':list(map(lambda x: x+1, list(X_test.index))),'Label':y_test})\n",
    "submission.to_csv(filename,index=False)"
   ]
  }
 ],
 "metadata": {
  "kernelspec": {
   "display_name": "Python 3",
   "language": "python",
   "name": "python3"
  },
  "language_info": {
   "codemirror_mode": {
    "name": "ipython",
    "version": 3
   },
   "file_extension": ".py",
   "mimetype": "text/x-python",
   "name": "python",
   "nbconvert_exporter": "python",
   "pygments_lexer": "ipython3",
   "version": "3.6.3"
  }
 },
 "nbformat": 4,
 "nbformat_minor": 2
}
